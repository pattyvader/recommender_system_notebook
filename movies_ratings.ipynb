{
 "cells": [
  {
   "cell_type": "markdown",
   "id": "5deb8bf6",
   "metadata": {},
   "source": [
    "# Sistemas de Recomendação usando PySpark"
   ]
  },
  {
   "cell_type": "markdown",
   "id": "ff604ec7",
   "metadata": {},
   "source": [
    "###### Dataset: https://grouplens.org/datasets/movielens/\n",
    "Código do sistema de recomendação baseado em: https://github.com/Apress/machine-learning-with-pyspark/tree/master/chapter_8_Recommender_System"
   ]
  },
  {
   "cell_type": "markdown",
   "id": "8388a315",
   "metadata": {},
   "source": [
    "### Existem breves explicações em cada pequena parte do código, facilitando assim, o entendimento do que está sendo executado."
   ]
  },
  {
   "cell_type": "markdown",
   "id": "cb1d213f",
   "metadata": {},
   "source": [
    "#### Importação das bilibiotecas do PySpark."
   ]
  },
  {
   "cell_type": "code",
   "execution_count": 1,
   "id": "c0847285",
   "metadata": {},
   "outputs": [],
   "source": [
    "from pyspark.sql import SparkSession\n",
    "from pyspark.sql.functions import rand, col, lit\n",
    "from pyspark.ml.feature import StringIndexer,IndexToString\n",
    "from pyspark.ml.recommendation import ALS\n",
    "from pyspark.ml.evaluation import RegressionEvaluator"
   ]
  },
  {
   "cell_type": "markdown",
   "id": "5c84b920",
   "metadata": {},
   "source": [
    "#### Criação de uma sessão Spark. Essa linha é muito importante pois permite que acessemos a API do Spark."
   ]
  },
  {
   "cell_type": "code",
   "execution_count": 2,
   "id": "373805bc",
   "metadata": {},
   "outputs": [],
   "source": [
    "spark = SparkSession.builder.appName('recommender_system').getOrCreate()"
   ]
  },
  {
   "cell_type": "markdown",
   "id": "0af0f2f5",
   "metadata": {},
   "source": [
    "#### Importação dos dados sobre os filmes, e junção de dois arquivos (ratings e movies). Nesse ponto ao ler os arquivos o Spark já adiciona os dados em um DataFrame."
   ]
  },
  {
   "cell_type": "code",
   "execution_count": 3,
   "id": "2d46a980",
   "metadata": {},
   "outputs": [],
   "source": [
    "df_ratings = spark.read.csv('ratings.csv',inferSchema=True, header=True)"
   ]
  },
  {
   "cell_type": "code",
   "execution_count": 4,
   "id": "cda4e715",
   "metadata": {},
   "outputs": [],
   "source": [
    "df_movies = spark.read.csv('movies.csv',inferSchema=True, header=True)"
   ]
  },
  {
   "cell_type": "code",
   "execution_count": 5,
   "id": "205c0b1a",
   "metadata": {},
   "outputs": [],
   "source": [
    "df_ratings_movies = df_ratings.join(df_movies,df_ratings.movieId == df_movies.movieId,\"inner\"\n",
    "    ).select(df_ratings[\"userId\"],df_ratings[\"movieId\"],df_ratings[\"rating\"],df_movies[\"title\"], df_movies[\"genres\"])"
   ]
  },
  {
   "cell_type": "markdown",
   "id": "710cadc5",
   "metadata": {},
   "source": [
    "#### Imprime o schema do DataFrame. Só por curiosidade!"
   ]
  },
  {
   "cell_type": "code",
   "execution_count": 6,
   "id": "7c6b1d44",
   "metadata": {},
   "outputs": [
    {
     "name": "stdout",
     "output_type": "stream",
     "text": [
      "root\n",
      " |-- userId: integer (nullable = true)\n",
      " |-- movieId: integer (nullable = true)\n",
      " |-- rating: double (nullable = true)\n",
      " |-- title: string (nullable = true)\n",
      " |-- genres: string (nullable = true)\n",
      "\n"
     ]
    }
   ],
   "source": [
    "df_ratings_movies.printSchema()"
   ]
  },
  {
   "cell_type": "markdown",
   "id": "96221300",
   "metadata": {},
   "source": [
    "#### Seleciona de forma aleatória alguns registros."
   ]
  },
  {
   "cell_type": "code",
   "execution_count": 7,
   "id": "d5ea7ded",
   "metadata": {},
   "outputs": [
    {
     "name": "stdout",
     "output_type": "stream",
     "text": [
      "+------+-------+------+-------------------------------------+-----------------------+\n",
      "|userId|movieId|rating|title                                |genres                 |\n",
      "+------+-------+------+-------------------------------------+-----------------------+\n",
      "|63298 |2022   |3.0   |Last Temptation of Christ, The (1988)|Drama                  |\n",
      "|119748|707    |2.0   |Mulholland Falls (1996)              |Crime|Drama|Thriller   |\n",
      "|29656 |6      |2.5   |Heat (1995)                          |Action|Crime|Thriller  |\n",
      "|89061 |34405  |5.0   |Serenity (2005)                      |Action|Adventure|Sci-Fi|\n",
      "|6039  |1333   |4.0   |Birds, The (1963)                    |Horror|Thriller        |\n",
      "+------+-------+------+-------------------------------------+-----------------------+\n",
      "only showing top 5 rows\n",
      "\n"
     ]
    }
   ],
   "source": [
    "df_ratings_movies.orderBy(rand()).show(5,False)"
   ]
  },
  {
   "cell_type": "markdown",
   "id": "3affe19b",
   "metadata": {},
   "source": [
    "#### Mostra os Top 5 usuários: os que mais avaliaram filmes."
   ]
  },
  {
   "cell_type": "code",
   "execution_count": 8,
   "id": "ebb3c62a",
   "metadata": {},
   "outputs": [
    {
     "name": "stdout",
     "output_type": "stream",
     "text": [
      "+------+-----+\n",
      "|userId|count|\n",
      "+------+-----+\n",
      "|118205|9254 |\n",
      "|8405  |7515 |\n",
      "|82418 |5646 |\n",
      "|121535|5520 |\n",
      "|125794|5491 |\n",
      "+------+-----+\n",
      "only showing top 5 rows\n",
      "\n"
     ]
    }
   ],
   "source": [
    "df_ratings_movies.groupBy('userId').count().orderBy('count',ascending=False).show(5,False)"
   ]
  },
  {
   "cell_type": "markdown",
   "id": "e8a121da",
   "metadata": {},
   "source": [
    "#### Mostra os Top 5 filmes: os que foram mais avaliados."
   ]
  },
  {
   "cell_type": "code",
   "execution_count": 9,
   "id": "91a0f54a",
   "metadata": {},
   "outputs": [
    {
     "name": "stdout",
     "output_type": "stream",
     "text": [
      "+--------------------------------+-----+\n",
      "|title                           |count|\n",
      "+--------------------------------+-----+\n",
      "|Pulp Fiction (1994)             |67310|\n",
      "|Forrest Gump (1994)             |66172|\n",
      "|Shawshank Redemption, The (1994)|63366|\n",
      "|Silence of the Lambs, The (1991)|63299|\n",
      "|Jurassic Park (1993)            |59715|\n",
      "+--------------------------------+-----+\n",
      "only showing top 5 rows\n",
      "\n"
     ]
    }
   ],
   "source": [
    "df_ratings_movies.groupBy('title').count().orderBy('count',ascending=False).show(5,False)"
   ]
  },
  {
   "cell_type": "markdown",
   "id": "413b42df",
   "metadata": {},
   "source": [
    "#### Aplica uma transformação na feature title. A função StringIndexer (https://spark.apache.org/docs/latest/api/python/reference/api/pyspark.ml.feature.StringIndexer.html) mapea a coluna do tipo string para uma coluna de índices. Essa nova coluna representa os valores numéricos para os filmes."
   ]
  },
  {
   "cell_type": "code",
   "execution_count": 10,
   "id": "ded5c18a",
   "metadata": {},
   "outputs": [],
   "source": [
    "stringIndexer = StringIndexer(inputCol=\"title\",outputCol=\"title_indexed\")"
   ]
  },
  {
   "cell_type": "code",
   "execution_count": 11,
   "id": "96e0850a",
   "metadata": {},
   "outputs": [],
   "source": [
    "model = stringIndexer.fit(df_ratings_movies)"
   ]
  },
  {
   "cell_type": "code",
   "execution_count": 12,
   "id": "1fe7a276",
   "metadata": {},
   "outputs": [],
   "source": [
    "titles_indexed = model.transform(df_ratings_movies)"
   ]
  },
  {
   "cell_type": "code",
   "execution_count": 13,
   "id": "b93e452f",
   "metadata": {},
   "outputs": [
    {
     "name": "stdout",
     "output_type": "stream",
     "text": [
      "+------+-------+------+--------------------+--------------------+-------------+\n",
      "|userId|movieId|rating|               title|              genres|title_indexed|\n",
      "+------+-------+------+--------------------+--------------------+-------------+\n",
      "|     1|      2|   3.5|      Jumanji (1995)|Adventure|Childre...|        125.0|\n",
      "|     1|     29|   3.5|City of Lost Chil...|Adventure|Drama|F...|        564.0|\n",
      "|     1|     32|   3.5|Twelve Monkeys (a...|Mystery|Sci-Fi|Th...|         19.0|\n",
      "|     1|     47|   3.5|Seven (a.k.a. Se7...|    Mystery|Thriller|         23.0|\n",
      "|     1|     50|   3.5|Usual Suspects, T...|Crime|Mystery|Thr...|         14.0|\n",
      "+------+-------+------+--------------------+--------------------+-------------+\n",
      "only showing top 5 rows\n",
      "\n"
     ]
    }
   ],
   "source": [
    "titles_indexed.show(5)"
   ]
  },
  {
   "cell_type": "code",
   "execution_count": 17,
   "id": "d2e60c31",
   "metadata": {},
   "outputs": [
    {
     "name": "stdout",
     "output_type": "stream",
     "text": [
      "+-------------+-----+\n",
      "|title_indexed|count|\n",
      "+-------------+-----+\n",
      "|0.0          |67310|\n",
      "|1.0          |66172|\n",
      "|2.0          |63366|\n",
      "|3.0          |63299|\n",
      "|4.0          |59715|\n",
      "+-------------+-----+\n",
      "only showing top 5 rows\n",
      "\n"
     ]
    }
   ],
   "source": [
    "titles_indexed.groupBy('title_indexed').count().orderBy('count',ascending=False).show(5,False)"
   ]
  },
  {
   "cell_type": "markdown",
   "id": "f08ac007",
   "metadata": {},
   "source": [
    "#### Treina o modelo."
   ]
  },
  {
   "cell_type": "code",
   "execution_count": 18,
   "id": "0efe7b19",
   "metadata": {},
   "outputs": [],
   "source": [
    "train,test = titles_indexed.randomSplit([0.75,0.25])"
   ]
  },
  {
   "cell_type": "code",
   "execution_count": 19,
   "id": "bbefbc8a",
   "metadata": {},
   "outputs": [
    {
     "data": {
      "text/plain": [
       "15000312"
      ]
     },
     "execution_count": 19,
     "metadata": {},
     "output_type": "execute_result"
    }
   ],
   "source": [
    "train.count()"
   ]
  },
  {
   "cell_type": "code",
   "execution_count": 20,
   "id": "07f5dbce",
   "metadata": {},
   "outputs": [
    {
     "data": {
      "text/plain": [
       "4999951"
      ]
     },
     "execution_count": 20,
     "metadata": {},
     "output_type": "execute_result"
    }
   ],
   "source": [
    "test.count()"
   ]
  },
  {
   "cell_type": "markdown",
   "id": "de180d38",
   "metadata": {},
   "source": [
    "#### Importa a função ALS que constroe o modelo baseado no dataset de testes anterior.  https://spark.apache.org/docs/latest/mllib-collaborative-filtering.html"
   ]
  },
  {
   "cell_type": "code",
   "execution_count": 21,
   "id": "7248b33e",
   "metadata": {},
   "outputs": [],
   "source": [
    "rec = ALS(maxIter=10,regParam=0.01,userCol='userId',\n",
    "itemCol = 'title_indexed',ratingCol='rating',nonnegative=True, coldStartStrategy=\"drop\")"
   ]
  },
  {
   "cell_type": "code",
   "execution_count": 22,
   "id": "f770689a",
   "metadata": {},
   "outputs": [],
   "source": [
    "rec_model = rec.fit(train)"
   ]
  },
  {
   "cell_type": "markdown",
   "id": "bf902b75",
   "metadata": {},
   "source": [
    "#### Avalia a performance do modelo. Para as predições é utilizada a função transform e RegressionEvaluator (https://spark.apache.org/docs/latest/api/python/reference/api/pyspark.ml.evaluation.RegressionEvaluator.html) para testar o valor do RMSE nos dados de teste. O rmse mede a diferença entre os valores previstos pelo modelo e os valores atuais."
   ]
  },
  {
   "cell_type": "code",
   "execution_count": 23,
   "id": "9238b3db",
   "metadata": {},
   "outputs": [],
   "source": [
    "predicted_ratings = rec_model.transform(test)"
   ]
  },
  {
   "cell_type": "code",
   "execution_count": 24,
   "id": "05683e60",
   "metadata": {},
   "outputs": [
    {
     "name": "stdout",
     "output_type": "stream",
     "text": [
      "root\n",
      " |-- userId: integer (nullable = true)\n",
      " |-- movieId: integer (nullable = true)\n",
      " |-- rating: double (nullable = true)\n",
      " |-- title: string (nullable = true)\n",
      " |-- genres: string (nullable = true)\n",
      " |-- title_indexed: double (nullable = false)\n",
      " |-- prediction: float (nullable = false)\n",
      "\n"
     ]
    }
   ],
   "source": [
    "predicted_ratings.printSchema()"
   ]
  },
  {
   "cell_type": "code",
   "execution_count": 25,
   "id": "e16eed58",
   "metadata": {},
   "outputs": [
    {
     "name": "stdout",
     "output_type": "stream",
     "text": [
      "+------+-------+------+--------------------+--------------------+-------------+----------+\n",
      "|userId|movieId|rating|               title|              genres|title_indexed|prediction|\n",
      "+------+-------+------+--------------------+--------------------+-------------+----------+\n",
      "| 44105|   1580|   3.0|Men in Black (a.k...|Action|Comedy|Sci-Fi|         36.0| 2.5390618|\n",
      "| 60119|    156|   3.0|Blue in the Face ...|        Comedy|Drama|       2298.0| 3.8011723|\n",
      "| 88316|    110|   5.0|   Braveheart (1995)|    Action|Drama|War|          6.0|  4.159054|\n",
      "| 35710|   2863|   5.0|Hard Day's Night,...|Adventure|Comedy|...|       1168.0|  4.147358|\n",
      "| 30350|   3984|   3.0|Diamonds Are Fore...|Action|Adventure|...|       1145.0| 3.5844688|\n",
      "+------+-------+------+--------------------+--------------------+-------------+----------+\n",
      "only showing top 5 rows\n",
      "\n"
     ]
    }
   ],
   "source": [
    "predicted_ratings.orderBy(rand()).show(5)"
   ]
  },
  {
   "cell_type": "code",
   "execution_count": 26,
   "id": "07950d59",
   "metadata": {},
   "outputs": [],
   "source": [
    "evaluator = RegressionEvaluator(metricName='rmse',predictionCol='prediction',labelCol='rating')"
   ]
  },
  {
   "cell_type": "code",
   "execution_count": 27,
   "id": "c0126008",
   "metadata": {},
   "outputs": [],
   "source": [
    "rmse = evaluator.evaluate(predicted_ratings)"
   ]
  },
  {
   "cell_type": "code",
   "execution_count": 28,
   "id": "b5205ce5",
   "metadata": {},
   "outputs": [
    {
     "name": "stdout",
     "output_type": "stream",
     "text": [
      "0.8105306808793409\n"
     ]
    }
   ],
   "source": [
    "print(rmse)"
   ]
  },
  {
   "cell_type": "markdown",
   "id": "218de5dd",
   "metadata": {},
   "source": [
    "#### Recomenda os filmes. Verifica quais filmes o usuário já viu e quais ainda não assistiu, e apartir do merge entre os dois dataframes verifica quais poderá recomendar para o usuário."
   ]
  },
  {
   "cell_type": "code",
   "execution_count": 29,
   "id": "46677766",
   "metadata": {},
   "outputs": [],
   "source": [
    "distinct_movies = titles_indexed.select('title_indexed').distinct()"
   ]
  },
  {
   "cell_type": "code",
   "execution_count": 30,
   "id": "915aae2e",
   "metadata": {},
   "outputs": [
    {
     "data": {
      "text/plain": [
       "26729"
      ]
     },
     "execution_count": 30,
     "metadata": {},
     "output_type": "execute_result"
    }
   ],
   "source": [
    "distinct_movies.count()"
   ]
  },
  {
   "cell_type": "code",
   "execution_count": 31,
   "id": "503d831e",
   "metadata": {},
   "outputs": [],
   "source": [
    "dm = distinct_movies.alias('dm')"
   ]
  },
  {
   "cell_type": "code",
   "execution_count": 33,
   "id": "cc76643b",
   "metadata": {},
   "outputs": [],
   "source": [
    "user_id = 150"
   ]
  },
  {
   "cell_type": "code",
   "execution_count": 35,
   "id": "a213f64a",
   "metadata": {},
   "outputs": [],
   "source": [
    "watched_movies = titles_indexed.filter(titles_indexed['userId'] == user_id).select('title_indexed').distinct()"
   ]
  },
  {
   "cell_type": "code",
   "execution_count": 36,
   "id": "788af777",
   "metadata": {},
   "outputs": [
    {
     "data": {
      "text/plain": [
       "26"
      ]
     },
     "execution_count": 36,
     "metadata": {},
     "output_type": "execute_result"
    }
   ],
   "source": [
    "watched_movies.count()"
   ]
  },
  {
   "cell_type": "code",
   "execution_count": 37,
   "id": "787c00e7",
   "metadata": {},
   "outputs": [],
   "source": [
    "wm = watched_movies.alias('wm')"
   ]
  },
  {
   "cell_type": "code",
   "execution_count": 38,
   "id": "5baa8570",
   "metadata": {},
   "outputs": [],
   "source": [
    "total_movies = dm.join(wm, dm.title_indexed == wm.title_indexed,how ='left')"
   ]
  },
  {
   "cell_type": "code",
   "execution_count": 39,
   "id": "29eb08d4",
   "metadata": {},
   "outputs": [
    {
     "name": "stdout",
     "output_type": "stream",
     "text": [
      "+-------------+-------------+\n",
      "|title_indexed|title_indexed|\n",
      "+-------------+-------------+\n",
      "|299.0        |null         |\n",
      "|305.0        |null         |\n",
      "|496.0        |null         |\n",
      "|558.0        |null         |\n",
      "|596.0        |null         |\n",
      "+-------------+-------------+\n",
      "only showing top 5 rows\n",
      "\n"
     ]
    }
   ],
   "source": [
    "total_movies.show(5,False)"
   ]
  },
  {
   "cell_type": "code",
   "execution_count": 40,
   "id": "42a24e1f",
   "metadata": {},
   "outputs": [],
   "source": [
    "remaining_movies = total_movies.where(col(\"wm.title_indexed\").isNull()).select(dm.title_indexed).distinct()"
   ]
  },
  {
   "cell_type": "code",
   "execution_count": 41,
   "id": "bdac6e28",
   "metadata": {},
   "outputs": [
    {
     "data": {
      "text/plain": [
       "26703"
      ]
     },
     "execution_count": 41,
     "metadata": {},
     "output_type": "execute_result"
    }
   ],
   "source": [
    "remaining_movies.count()"
   ]
  },
  {
   "cell_type": "code",
   "execution_count": 42,
   "id": "a668503d",
   "metadata": {},
   "outputs": [],
   "source": [
    "remaining_movies = remaining_movies.withColumn(\"userId\",lit(int(user_id)))"
   ]
  },
  {
   "cell_type": "code",
   "execution_count": 43,
   "id": "7af9b529",
   "metadata": {},
   "outputs": [
    {
     "name": "stdout",
     "output_type": "stream",
     "text": [
      "+-------------+------+\n",
      "|title_indexed|userId|\n",
      "+-------------+------+\n",
      "|299.0        |150   |\n",
      "|305.0        |150   |\n",
      "|496.0        |150   |\n",
      "|558.0        |150   |\n",
      "|596.0        |150   |\n",
      "+-------------+------+\n",
      "only showing top 5 rows\n",
      "\n"
     ]
    }
   ],
   "source": [
    "remaining_movies.show(5,False)"
   ]
  },
  {
   "cell_type": "code",
   "execution_count": 44,
   "id": "d6a3e723",
   "metadata": {},
   "outputs": [],
   "source": [
    "recommendations = rec_model.transform(remaining_movies).orderBy('prediction',ascending=False)"
   ]
  },
  {
   "cell_type": "code",
   "execution_count": 45,
   "id": "e94bc07e",
   "metadata": {},
   "outputs": [
    {
     "name": "stdout",
     "output_type": "stream",
     "text": [
      "+-------------+------+----------+\n",
      "|title_indexed|userId|prediction|\n",
      "+-------------+------+----------+\n",
      "|18657.0      |150   |10.150861 |\n",
      "|20392.0      |150   |9.207703  |\n",
      "|17201.0      |150   |9.052946  |\n",
      "|20208.0      |150   |8.101024  |\n",
      "|22070.0      |150   |7.9838123 |\n",
      "+-------------+------+----------+\n",
      "only showing top 5 rows\n",
      "\n"
     ]
    }
   ],
   "source": [
    "recommendations.show(5,False)"
   ]
  },
  {
   "cell_type": "code",
   "execution_count": 46,
   "id": "45e46137",
   "metadata": {},
   "outputs": [],
   "source": [
    "movie_title = IndexToString(inputCol=\"title_indexed\",outputCol=\"title\",labels=model.labels)"
   ]
  },
  {
   "cell_type": "code",
   "execution_count": 47,
   "id": "63f239a6",
   "metadata": {},
   "outputs": [],
   "source": [
    "final_recommendations = movie_title.transform(recommendations)"
   ]
  },
  {
   "cell_type": "code",
   "execution_count": 48,
   "id": "6c24424a",
   "metadata": {},
   "outputs": [
    {
     "name": "stdout",
     "output_type": "stream",
     "text": [
      "+-------------+------+----------+---------------------------------------+\n",
      "|title_indexed|userId|prediction|title                                  |\n",
      "+-------------+------+----------+---------------------------------------+\n",
      "|18657.0      |150   |10.150861 |Fitzgerald Family Christmas, The (2012)|\n",
      "|20392.0      |150   |9.207703  |Send a Bullet (Manda Bala) (2007)      |\n",
      "|17201.0      |150   |9.052946  |Loose Change: Second Edition (2006)    |\n",
      "|20208.0      |150   |8.101024  |Nine Deaths of the Ninja (1985)        |\n",
      "|22070.0      |150   |7.9838123 |Out in the Dark (2013)                 |\n",
      "+-------------+------+----------+---------------------------------------+\n",
      "only showing top 5 rows\n",
      "\n"
     ]
    }
   ],
   "source": [
    "final_recommendations.show(5,False)"
   ]
  }
 ],
 "metadata": {
  "celltoolbar": "Raw Cell Format",
  "kernelspec": {
   "display_name": "Python 3",
   "language": "python",
   "name": "python3"
  },
  "language_info": {
   "codemirror_mode": {
    "name": "ipython",
    "version": 3
   },
   "file_extension": ".py",
   "mimetype": "text/x-python",
   "name": "python",
   "nbconvert_exporter": "python",
   "pygments_lexer": "ipython3",
   "version": "3.9.4"
  }
 },
 "nbformat": 4,
 "nbformat_minor": 5
}
